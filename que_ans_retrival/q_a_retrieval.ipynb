{
 "cells": [
  {
   "cell_type": "code",
   "execution_count": 1,
   "metadata": {},
   "outputs": [
    {
     "name": "stdout",
     "output_type": "stream",
     "text": [
      "Defaulting to user installation because normal site-packages is not writeable\n",
      "Requirement already satisfied: transformers in /home/abhay/.local/lib/python3.8/site-packages (4.45.2)\n",
      "Requirement already satisfied: faiss-cpu in /home/abhay/.local/lib/python3.8/site-packages (1.8.0.post1)\n",
      "Requirement already satisfied: filelock in /home/abhay/.local/lib/python3.8/site-packages (from transformers) (3.16.1)\n",
      "Requirement already satisfied: huggingface-hub<1.0,>=0.23.2 in /home/abhay/.local/lib/python3.8/site-packages (from transformers) (0.25.2)\n",
      "Requirement already satisfied: numpy>=1.17 in /home/abhay/.local/lib/python3.8/site-packages (from transformers) (1.23.2)\n",
      "Requirement already satisfied: packaging>=20.0 in /home/abhay/.local/lib/python3.8/site-packages (from transformers) (21.3)\n",
      "Requirement already satisfied: pyyaml>=5.1 in /usr/lib/python3/dist-packages (from transformers) (5.3.1)\n",
      "Requirement already satisfied: regex!=2019.12.17 in /home/abhay/.local/lib/python3.8/site-packages (from transformers) (2022.8.17)\n",
      "Requirement already satisfied: requests in /home/abhay/.local/lib/python3.8/site-packages (from transformers) (2.28.1)\n",
      "Requirement already satisfied: safetensors>=0.4.1 in /home/abhay/.local/lib/python3.8/site-packages (from transformers) (0.4.5)\n",
      "Requirement already satisfied: tokenizers<0.21,>=0.20 in /home/abhay/.local/lib/python3.8/site-packages (from transformers) (0.20.1)\n",
      "Requirement already satisfied: tqdm>=4.27 in /home/abhay/.local/lib/python3.8/site-packages (from transformers) (4.64.1)\n",
      "Requirement already satisfied: fsspec>=2023.5.0 in /home/abhay/.local/lib/python3.8/site-packages (from huggingface-hub<1.0,>=0.23.2->transformers) (2024.9.0)\n",
      "Requirement already satisfied: typing-extensions>=3.7.4.3 in /home/abhay/.local/lib/python3.8/site-packages (from huggingface-hub<1.0,>=0.23.2->transformers) (4.12.2)\n",
      "Requirement already satisfied: pyparsing!=3.0.5,>=2.0.2 in /home/abhay/.local/lib/python3.8/site-packages (from packaging>=20.0->transformers) (3.0.9)\n",
      "Requirement already satisfied: charset-normalizer<3,>=2 in /home/abhay/.local/lib/python3.8/site-packages (from requests->transformers) (2.1.1)\n",
      "Requirement already satisfied: idna<4,>=2.5 in /home/abhay/.local/lib/python3.8/site-packages (from requests->transformers) (3.3)\n",
      "Requirement already satisfied: urllib3<1.27,>=1.21.1 in /home/abhay/.local/lib/python3.8/site-packages (from requests->transformers) (1.26.12)\n",
      "Requirement already satisfied: certifi>=2017.4.17 in /home/abhay/.local/lib/python3.8/site-packages (from requests->transformers) (2022.6.15)\n",
      "Note: you may need to restart the kernel to use updated packages.\n"
     ]
    }
   ],
   "source": [
    "pip install transformers faiss-cpu\n"
   ]
  },
  {
   "cell_type": "code",
   "execution_count": null,
   "metadata": {},
   "outputs": [],
   "source": [
    "from transformers import DPRContextEncoder, DPRContextEncoderTokenizer, pipeline\n",
    "import json\n",
    "import re\n",
    "\n",
    "context_tokenizer = DPRContextEncoderTokenizer.from_pretrained('facebook/dpr-ctx_encoder-single-nq-base')\n",
    "context_encoder = DPRContextEncoder.from_pretrained('facebook/dpr-ctx_encoder-single-nq-base')\n",
    "\n",
    "file_path = \"/home/abhay/my_projects/ps2_chatbot/life_at_jklu/health_center.txt\"\n",
    "\n",
    "with open(file_path, 'r', encoding='utf-8') as f:\n",
    "    uploaded_text = f.read()\n",
    "\n",
    "question_generator = pipeline('text2text-generation', model='valhalla/t5-small-qg-prepend')\n",
    "\n",
    "def generate_questions(text):\n",
    "    generated_questions = question_generator(f\"generate question: {text}\")\n",
    "    return generated_questions\n",
    "\n",
    "def extract_answer(question, context):\n",
    "    key_terms = re.split(r\"\\s|,\", question.lower())\n",
    "    for sentence in context.split(\". \"):\n",
    "        if all(term in sentence.lower() for term in key_terms if term):\n",
    "            return sentence\n",
    "    return \"Answer not found\"\n",
    "\n",
    "qa_pairs = []\n",
    "questions = generate_questions(uploaded_text)\n",
    "\n",
    "for q in questions:\n",
    "    question_text = q['generated_text']\n",
    "    answer_text = extract_answer(question_text, uploaded_text)\n",
    "    qa_pairs.append({\n",
    "        \"question\": question_text,\n",
    "        \"answer\": answer_text\n",
    "    })\n",
    "\n",
    "output_file = \"qa_pairs_single_file.json\"\n",
    "with open(output_file, 'w', encoding='utf-8') as f:\n",
    "    json.dump(qa_pairs, f, ensure_ascii=False, indent=4)\n",
    "\n",
    "print(f\"Question-answer pairs saved to {output_file}\")\n"
   ]
  }
 ],
 "metadata": {
  "kernelspec": {
   "display_name": "Python 3",
   "language": "python",
   "name": "python3"
  },
  "language_info": {
   "codemirror_mode": {
    "name": "ipython",
    "version": 3
   },
   "file_extension": ".py",
   "mimetype": "text/x-python",
   "name": "python",
   "nbconvert_exporter": "python",
   "pygments_lexer": "ipython3",
   "version": "3.8.10"
  }
 },
 "nbformat": 4,
 "nbformat_minor": 2
}
